{
 "cells": [
  {
   "cell_type": "markdown",
   "id": "72654890",
   "metadata": {},
   "source": [
    "# CRM Analitiği"
   ]
  },
  {
   "cell_type": "markdown",
   "id": "42b5c15c",
   "metadata": {},
   "source": [
    "### Kohort Analizi - Python Uygulama"
   ]
  },
  {
   "cell_type": "code",
   "execution_count": 1,
   "id": "a4d1311e",
   "metadata": {},
   "outputs": [],
   "source": [
    "# Kütüphane aktivasyonları\n",
    "import pandas as pd\n",
    "import numpy as np\n",
    "import seaborn as sns\n",
    "import matplotlib.pyplot as plt\n",
    "import datetime as dt\n",
    "import warnings\n",
    "import matplotlib\n",
    "import squarify\n",
    "from datetime import datetime\n",
    "from lifetimes import BetaGeoFitter\n",
    "from lifetimes import GammaGammaFitter\n",
    "from lifetimes.plotting import plot_period_transactions"
   ]
  },
  {
   "cell_type": "code",
   "execution_count": 2,
   "id": "c58f11df",
   "metadata": {},
   "outputs": [],
   "source": [
    "# Görünürlük ayarları\n",
    "warnings.simplefilter('ignore')\n",
    "pd.set_option('display.max_columns', None)\n",
    "pd.set_option('display.max_rows', None)\n",
    "pd.set_option('display.float_format', lambda x: '%.3f' % x)\n",
    "pd.set_option('display.expand_frame_repr', False)\n",
    "pd.set_option('display.width', 500)"
   ]
  },
  {
   "cell_type": "code",
   "execution_count": 3,
   "id": "d0ed9448",
   "metadata": {},
   "outputs": [],
   "source": [
    "# Verinin import edilmesi\n",
    "def online_retail(path,sheetname):\n",
    "    dataframe = pd.read_excel(path, sheet_name = sheetname)\n",
    "    return dataframe"
   ]
  },
  {
   "cell_type": "code",
   "execution_count": 4,
   "id": "987216eb",
   "metadata": {},
   "outputs": [],
   "source": [
    "df_ = online_retail(\"online_retail_II.xlsx\",\"Year 2010-2011\")"
   ]
  },
  {
   "cell_type": "code",
   "execution_count": 5,
   "id": "a0184548",
   "metadata": {},
   "outputs": [],
   "source": [
    "df = df_.copy()"
   ]
  },
  {
   "cell_type": "code",
   "execution_count": 6,
   "id": "889da3c1",
   "metadata": {},
   "outputs": [
    {
     "name": "stdout",
     "output_type": "stream",
     "text": [
      "##################### Shape #####################\n",
      "(541910, 8)\n",
      "##################### Types #####################\n",
      "Invoice                object\n",
      "StockCode              object\n",
      "Description            object\n",
      "Quantity                int64\n",
      "InvoiceDate    datetime64[ns]\n",
      "Price                 float64\n",
      "Customer ID           float64\n",
      "Country                object\n",
      "dtype: object\n",
      "##################### Head #####################\n",
      "  Invoice StockCode                          Description  Quantity         InvoiceDate  Price  Customer ID         Country\n",
      "0  536365    85123A   WHITE HANGING HEART T-LIGHT HOLDER         6 2010-12-01 08:26:00  2.550    17850.000  United Kingdom\n",
      "1  536365     71053                  WHITE METAL LANTERN         6 2010-12-01 08:26:00  3.390    17850.000  United Kingdom\n",
      "2  536365    84406B       CREAM CUPID HEARTS COAT HANGER         8 2010-12-01 08:26:00  2.750    17850.000  United Kingdom\n",
      "3  536365    84029G  KNITTED UNION FLAG HOT WATER BOTTLE         6 2010-12-01 08:26:00  3.390    17850.000  United Kingdom\n",
      "4  536365    84029E       RED WOOLLY HOTTIE WHITE HEART.         6 2010-12-01 08:26:00  3.390    17850.000  United Kingdom\n",
      "##################### Tail #####################\n",
      "       Invoice StockCode                      Description  Quantity         InvoiceDate  Price  Customer ID Country\n",
      "541905  581587     22899     CHILDREN'S APRON DOLLY GIRL          6 2011-12-09 12:50:00  2.100    12680.000  France\n",
      "541906  581587     23254    CHILDRENS CUTLERY DOLLY GIRL          4 2011-12-09 12:50:00  4.150    12680.000  France\n",
      "541907  581587     23255  CHILDRENS CUTLERY CIRCUS PARADE         4 2011-12-09 12:50:00  4.150    12680.000  France\n",
      "541908  581587     22138    BAKING SET 9 PIECE RETROSPOT          3 2011-12-09 12:50:00  4.950    12680.000  France\n",
      "541909  581587      POST                          POSTAGE         1 2011-12-09 12:50:00 18.000    12680.000  France\n",
      "##################### NA #####################\n",
      "Invoice             0\n",
      "StockCode           0\n",
      "Description      1454\n",
      "Quantity            0\n",
      "InvoiceDate         0\n",
      "Price               0\n",
      "Customer ID    135080\n",
      "Country             0\n",
      "dtype: int64\n"
     ]
    }
   ],
   "source": [
    "# Veriye genel bakış\n",
    "def check_df(dataframe, head=5):\n",
    "    print(\"##################### Shape #####################\")\n",
    "    print(dataframe.shape)\n",
    "    print(\"##################### Types #####################\")\n",
    "    print(dataframe.dtypes)\n",
    "    print(\"##################### Head #####################\")\n",
    "    print(dataframe.head(head))\n",
    "    print(\"##################### Tail #####################\")\n",
    "    print(dataframe.tail(head))\n",
    "    print(\"##################### NA #####################\")\n",
    "    print(dataframe.isnull().sum())\n",
    "    \n",
    "check_df(df,head=5)"
   ]
  },
  {
   "cell_type": "code",
   "execution_count": 7,
   "id": "cbfcd579",
   "metadata": {},
   "outputs": [],
   "source": [
    "# Veri ön işleme\n",
    "def outlier_thresholds(dataframe, variable):\n",
    "    quartile1 = dataframe[variable].quantile(0.01)\n",
    "    quartile3 = dataframe[variable].quantile(0.99)\n",
    "    interquantile_range = quartile3 - quartile1\n",
    "    up_limit = quartile3 + 1.5 * interquantile_range\n",
    "    low_limit = quartile1 - 1.5 * interquantile_range\n",
    "    return low_limit, up_limit\n",
    "\n",
    "\n",
    "def replace_with_thresholds(dataframe, variable):\n",
    "    low_limit, up_limit = outlier_thresholds(dataframe, variable)\n",
    "    # dataframe.loc[(dataframe[variable] < low_limit), variable] = low_limit\n",
    "    dataframe.loc[(dataframe[variable] > up_limit), variable] = up_limit\n",
    "\n",
    "\n",
    "def online_retail_data_prep(dataframe):\n",
    "    dataframe.dropna(inplace=True)\n",
    "    dataframe = dataframe[~dataframe[\"Invoice\"].str.contains(\"C\", na=False)]\n",
    "    dataframe = dataframe[dataframe[\"Quantity\"] > 0]\n",
    "    dataframe = dataframe[dataframe[\"Price\"] > 0]\n",
    "    replace_with_thresholds(dataframe, \"Quantity\")\n",
    "    replace_with_thresholds(dataframe, \"Price\")\n",
    "    dataframe[\"TotalPrice\"] = dataframe[\"Quantity\"] * dataframe[\"Price\"]\n",
    "    return dataframe\n",
    "\n",
    "df = online_retail_data_prep(df)"
   ]
  },
  {
   "cell_type": "code",
   "execution_count": 8,
   "id": "3e614e73",
   "metadata": {
    "scrolled": false
   },
   "outputs": [
    {
     "data": {
      "image/png": "[encoded data removed]",
      "text/plain": [
       "<Figure size 864x576 with 2 Axes>"
      ]
     },
     "metadata": {
      "needs_background": "light"
     },
     "output_type": "display_data"
    }
   ],
   "source": [
    "# Kohort Analizi\n",
    "def cohort_analysis(df,plot=False):\n",
    "    df = df[['InvoiceDate','Customer ID','TotalPrice']]\n",
    "    # tarih için sadece yıl ve ay bilgilerinin getirilmesi\n",
    "    get_year_month = lambda x: datetime(x.year, x.month, 1)\n",
    "    # lambda fonksiyonun veriye uygulanması\n",
    "    df['OrderMonth'] = df['InvoiceDate'].apply(get_year_month)\n",
    "    # kullanıcıların ilk sipariş tarihini getirelim\n",
    "    user_first_date = df.groupby('Customer ID')['OrderMonth']\n",
    "    df['CohortMonth'] = user_first_date.transform('min')\n",
    "    # ilk sipariş ve sonraki sipariş arası farklar\n",
    "    # yıl farkı\n",
    "    years_diff = df['OrderMonth'].dt.year - df['CohortMonth'].dt.year\n",
    "    # ay farkı\n",
    "    months_diff = df['OrderMonth'].dt.month - df['CohortMonth'].dt.month\n",
    "    # aradaki farkın yeni kolona eklenmesi\n",
    "    df['CohortIndex'] = years_diff * 12 + months_diff + 1\n",
    "    grouping_count = df.groupby(['CohortMonth', 'CohortIndex'])\n",
    "    cohort_data = grouping_count['Customer ID'].apply(pd.Series.nunique)\n",
    "    cohort_data = cohort_data.reset_index()\n",
    "    cohort_user_counts = cohort_data.pivot(index='CohortMonth',\n",
    "                                  columns='CohortIndex',\n",
    "                                  values='Customer ID')\n",
    "    \n",
    "    if plot:\n",
    "        # her bir müşteri için aktiflik yüzdesinin oluşturulması\n",
    "        cohort_sizes = cohort_user_counts.iloc[:,0]\n",
    "        retention = cohort_user_counts.divide(cohort_sizes, axis=0)\n",
    "\n",
    "        # cohort formatının ay ve yıl olarak gösterimi\n",
    "        retention.index = retention.index.strftime('%m-%Y')\n",
    "\n",
    "        # cohort\n",
    "        sns.set(style = 'white')\n",
    "        plt.figure(figsize = (12, 8))\n",
    "        plt.title('Cohort: Müşteri Tutundurma Analizi')\n",
    "        sns.heatmap(\n",
    "                    retention\n",
    "                    ,cmap = 'RdYlGn'\n",
    "                    ,annot = True\n",
    "                    ,fmt = '.0%'\n",
    "                    )\n",
    "        plt.xlabel(\"Devam Eden Aylar\")\n",
    "        plt.ylabel(\"İlk Geliş Tarihi\")\n",
    "        plt.show(block=True)\n",
    "        \n",
    "cohort_analysis(df,plot = True)"
   ]
  },
  {
   "cell_type": "markdown",
   "id": "587d2ac7",
   "metadata": {},
   "source": [
    "### RFM Analizi - Python Uygulama"
   ]
  },
  {
   "cell_type": "code",
   "execution_count": 9,
   "id": "beadec41",
   "metadata": {
    "scrolled": false
   },
   "outputs": [
    {
     "name": "stdout",
     "output_type": "stream",
     "text": [
      "#################### RFM Analysis ########################################\n",
      "                    recency       frequency       monetary      \n",
      "                       mean count      mean count     mean count\n",
      "segment                                                         \n",
      "about_to_sleep       53.312   352     1.162   352  469.058   352\n",
      "at_risk             153.786   593     2.877   593  938.458   593\n",
      "cant_loose          132.968    63     8.381    63 2646.823    63\n",
      "champions             6.362   633    12.414   633 6498.641   633\n",
      "hibernating         217.605  1071     1.102  1071  398.573  1071\n",
      "loyal_customers      33.608   819     6.480   819 2752.520   819\n",
      "need_attention       52.428   187     2.326   187  847.657   187\n",
      "new_customers         7.429    42     1.000    42  314.884    42\n",
      "potential_loyalists  17.399   484     2.010   484  674.628   484\n",
      "promising            23.511    94     1.000    94  285.624    94\n",
      "###########################################################################\n"
     ]
    },
    {
     "data": {
      "image/png": "[encoded data removed]",
      "text/plain": [
       "<Figure size 864x576 with 1 Axes>"
      ]
     },
     "metadata": {
      "needs_background": "light"
     },
     "output_type": "display_data"
    }
   ],
   "source": [
    "def create_rfm(dataframe, csv=False, plot = False):\n",
    "    \n",
    "    # RFM Metriklerinin Hesaplanması\n",
    "    # Analiz edilecek tarih (Genel olarak veride yer alan en yakın tarihin 1-2 gün uzağındaki tarih.)\n",
    "    # df.InvoiceDate.max()/Timestamp('2011-12-09 12:50:00')\n",
    "    today_date = dt.datetime(2011, 12, 11)\n",
    "    rfm = dataframe.groupby('Customer ID').agg({'InvoiceDate': lambda date: (today_date - date.max()).days, # Recency değeri hesaplanması\n",
    "                                                'Invoice': lambda num: num.nunique(), # Frequency değeri hesaplanması\n",
    "                                                \"TotalPrice\": lambda price: price.sum()}) # Monetary değeri hesaplanması\n",
    "    \n",
    "    # rfm nesnesinde yer alan kolon isimlerini uyarlama\n",
    "    rfm.columns = ['recency', 'frequency', \"monetary\"]\n",
    "    rfm = rfm[(rfm['monetary'] > 0)]\n",
    "\n",
    "    # RFM skorlarının standartlaştırılması\n",
    "    rfm[\"recency_score\"] = pd.qcut(rfm['recency'], 5, labels=[5, 4, 3, 2, 1]) # Sayısal değeri az olan daha önemli.\n",
    "    rfm[\"frequency_score\"] = pd.qcut(rfm[\"frequency\"].rank(method=\"first\"), 5, labels=[1, 2, 3, 4, 5]) # Sayısal değeri an olan daha az önemli\n",
    "    rfm[\"monetary_score\"] = pd.qcut(rfm['monetary'], 5, labels=[1, 2, 3, 4, 5]) # Sayısal değeri an olan daha az önemli\n",
    "\n",
    "    # RFM skorlarının kategorik değere dönüştürülüp df'e eklendi\n",
    "    rfm[\"RFM_SCORE\"] = (rfm['recency_score'].astype(str) +\n",
    "                        rfm['frequency_score'].astype(str))\n",
    "\n",
    "\n",
    "    # Segmentlerin isimlendirilmesi\n",
    "    seg_map = {\n",
    "        r'[1-2][1-2]': 'hibernating',\n",
    "        r'[1-2][3-4]': 'at_risk',\n",
    "        r'[1-2]5': 'cant_loose',\n",
    "        r'3[1-2]': 'about_to_sleep',\n",
    "        r'33': 'need_attention',\n",
    "        r'[3-4][4-5]': 'loyal_customers',\n",
    "        r'41': 'promising',\n",
    "        r'51': 'new_customers',\n",
    "        r'[4-5][2-3]': 'potential_loyalists',\n",
    "        r'5[4-5]': 'champions'\n",
    "    }\n",
    "\n",
    "    rfm['segment'] = rfm['RFM_SCORE'].replace(seg_map, regex=True)\n",
    "    rfm = rfm[[\"recency\", \"frequency\", \"monetary\", \"segment\"]]\n",
    "    rfm.index = rfm.index.astype(int)\n",
    "    print(\"#################### RFM Analysis ########################################\")\n",
    "    print(rfm.groupby(\"segment\").agg([\"mean\", \"count\"]))\n",
    "    print(\"###########################################################################\")\n",
    "    \n",
    "    if csv:\n",
    "        rfm.to_csv(\"rfm.csv\")\n",
    "        \n",
    "    if plot:\n",
    "        rfm.reset_index(inplace=True)\n",
    "        segment_groups = rfm.groupby(\"segment\")[\"Customer ID\"].nunique().reset_index()\n",
    "        cmap = matplotlib.cm.coolwarm\n",
    "        colors = sns.color_palette(\"hls\", 8)\n",
    "        mini = min(segment_groups[\"Customer ID\"])\n",
    "        maxi = max(segment_groups[\"Customer ID\"])\n",
    "        norm = matplotlib.colors.Normalize(vmin=mini,vmax=maxi)\n",
    "        fig = plt.gcf()\n",
    "        ax = fig.add_subplot()\n",
    "        fig.set_size_inches(12,8)\n",
    "        squarify.plot(sizes=segment_groups[\"Customer ID\"],\n",
    "                      label = segment_groups.segment,\n",
    "                      alpha=1,\n",
    "                      pad=True,\n",
    "                      color=colors)\n",
    "        plt.title(\"RFM Segment Graph\",)\n",
    "        plt.axis(\"off\")\n",
    "        plt.show(block=True)\n",
    "\n",
    "    return rfm\n",
    "\n",
    "rfm_new = create_rfm(df, csv=False,plot = True)"
   ]
  },
  {
   "cell_type": "markdown",
   "id": "666a6ffa",
   "metadata": {},
   "source": [
    "###  Müşteri Yaşam Boyu Değeri - Python Uygulama"
   ]
  },
  {
   "cell_type": "code",
   "execution_count": 10,
   "id": "15a9e2f8",
   "metadata": {},
   "outputs": [
    {
     "name": "stdout",
     "output_type": "stream",
     "text": [
      "#################### CLV Analysis ########################################\n",
      "segment                         D        C        B         A\n",
      "total_transaction  mean     1.270    1.855    3.501    10.459\n",
      "                   count 1085.000 1084.000 1084.000  1085.000\n",
      "total_unit         mean   116.656  278.221  636.912  3307.567\n",
      "                   count 1085.000 1084.000 1084.000  1085.000\n",
      "total_price        mean   175.420  456.043 1052.800  5882.376\n",
      "                   count 1085.000 1084.000 1084.000  1085.000\n",
      "avg_order_value    mean   151.552  300.896  393.571   610.424\n",
      "                   count 1085.000 1084.000 1084.000  1085.000\n",
      "purchase_frequency mean     0.000    0.000    0.001     0.002\n",
      "                   count 1085.000 1084.000 1084.000  1085.000\n",
      "profit_margin      mean    17.542   45.604  105.280   588.238\n",
      "                   count 1085.000 1084.000 1084.000  1085.000\n",
      "customer_value     mean     0.040    0.105    0.243     1.356\n",
      "                   count 1085.000 1084.000 1084.000  1085.000\n",
      "cltv               mean     2.398   14.720   79.354 16761.830\n",
      "                   count 1085.000 1084.000 1084.000  1085.000\n",
      "###########################################################################\n"
     ]
    }
   ],
   "source": [
    "def create_cltv_c(dataframe, profit=0.10):\n",
    "    # CLTV hesaplamaları için müşterileri tekilleştirme işlemleri:\n",
    "    cltv_c = dataframe.groupby('Customer ID').agg({'Invoice': lambda x: x.nunique(), # İşlemlerin müşteri bazlı tekilleştirilmesi\n",
    "                                                   'Quantity': lambda x: x.sum(), # İşlemlerin toplam niceliklerinin müşteri bazlı toplamı\n",
    "                                                   'TotalPrice': lambda x: x.sum()}) # İşlemlerin toplam ücretinin müşteri bazlı tekilleştirilmesi\n",
    "   \n",
    "    # cltv_c kolonlarının kolon bazlı olarak isimlerinin değiştirilmesi\n",
    "    cltv_c.columns = ['total_transaction', 'total_unit', 'total_price']\n",
    "    # avg_order_value (Ortalama Sipariş Değeri = Toplam Fiyat / Toplam İşlem)\n",
    "    cltv_c['avg_order_value'] = cltv_c['total_price'] / cltv_c['total_transaction']\n",
    "    # purchase_frequency (Satın Alma Sıklığı = Toplam İşlem / Toplam Müşteri Sayısı)\n",
    "    cltv_c[\"purchase_frequency\"] = cltv_c['total_transaction'] / cltv_c.shape[0]\n",
    "    # repeat rate (Tekrarlanan Sipariş Oranı (Birden fazla alışveriş yapan müşteri sayısı / Tüm müşteriler))\n",
    "    repeat_rate = cltv_c[cltv_c.total_transaction > 1].shape[0] / cltv_c.shape[0]\n",
    "    # churn rate (Müşteri Terk Oranı = 1 - Tekrarlanan Sipariş Oranı) \n",
    "    churn_rate = 1 - repeat_rate\n",
    "    # profit_margin (Kâr Marjı = Toplam Fiyat * (profit))\n",
    "    cltv_c['profit_margin'] = cltv_c['total_price'] * profit\n",
    "    # Customer Value (Müşteri Değeri = Ortalama Sipariş Değeri * Satın Alma Sıklığı)\n",
    "    cltv_c['customer_value'] = (cltv_c['avg_order_value'] * cltv_c[\"purchase_frequency\"])\n",
    "    # Customer Lifetime Value ((Customer Value/ Churn Rate)* Profit Margin)\n",
    "    cltv_c['cltv'] = (cltv_c['customer_value'] / churn_rate) * cltv_c['profit_margin']\n",
    "    # Segment\n",
    "    cltv_c[\"segment\"] = pd.qcut(cltv_c[\"cltv\"], 4, labels=[\"D\", \"C\", \"B\", \"A\"])\n",
    "    print(\"#################### CLV Analysis ########################################\")\n",
    "    print(cltv_c.groupby(\"segment\").agg([\"mean\", \"count\"]).T)\n",
    "    print(\"###########################################################################\")\n",
    "\n",
    "    return cltv_c\n",
    "\n",
    "clv = create_cltv_c(df)"
   ]
  },
  {
   "cell_type": "markdown",
   "id": "9a94e3f9",
   "metadata": {},
   "source": [
    "### Müşteri Yaşam Boyu Değeri Tahmini - Python Uygulama"
   ]
  },
  {
   "cell_type": "code",
   "execution_count": 11,
   "id": "49f5df03",
   "metadata": {
    "scrolled": true
   },
   "outputs": [
    {
     "name": "stdout",
     "output_type": "stream",
     "text": [
      "#################### BG/NBD - Gamma Gamma CLTV Analysis ########################################\n",
      "segment                               D         C         B         A\n",
      "Customer ID             count   712.000   711.000   711.000   711.000\n",
      "                        mean  15558.476 15309.634 15352.819 14947.359\n",
      "recency                 count   712.000   711.000   711.000   711.000\n",
      "                        mean     22.074    30.670    29.515    31.411\n",
      "T                       count   712.000   711.000   711.000   711.000\n",
      "                        mean     40.465    38.111    34.812    34.484\n",
      "frequency               count   712.000   711.000   711.000   711.000\n",
      "                        mean      3.065     4.096     5.442    11.359\n",
      "monetary                count   712.000   711.000   711.000   711.000\n",
      "                        mean    183.963   271.695   373.443   659.859\n",
      "expected_purc_4_week    count   712.000   711.000   711.000   711.000\n",
      "                        mean      0.283     0.480     0.647     1.089\n",
      "expected_average_profit count   712.000   711.000   711.000   711.000\n",
      "                        mean    199.438   289.986   393.894   685.900\n",
      "clv                     count   712.000   711.000   711.000   711.000\n",
      "                        mean    143.297   380.792   688.265  2222.360\n",
      "###########################################################################\n"
     ]
    }
   ],
   "source": [
    "def create_cltv_p(dataframe, month=3,week = 4):\n",
    "    # df.InvoiceDate.max()/Timestamp('2011-12-09 12:50:00')\n",
    "    today_date = dt.datetime(2011, 12, 11)\n",
    "\n",
    "    cltv_df = dataframe.groupby('Customer ID').agg(\n",
    "        {'InvoiceDate': [lambda InvoiceDate: (InvoiceDate.max() - InvoiceDate.min()).days, # recency\n",
    "                         lambda InvoiceDate: (today_date - InvoiceDate.min()).days], # T\n",
    "         'Invoice': lambda Invoice: Invoice.nunique(), # frequency\n",
    "         'TotalPrice': lambda TotalPrice: TotalPrice.sum()}) # monetary\n",
    "\n",
    "    cltv_df.columns = cltv_df.columns.droplevel(0)\n",
    "    cltv_df.columns = ['recency', 'T', 'frequency', 'monetary']\n",
    "    cltv_df[\"monetary\"] = cltv_df[\"monetary\"] / cltv_df[\"frequency\"]\n",
    "    cltv_df = cltv_df[(cltv_df['frequency'] > 1)]\n",
    "    cltv_df[\"recency\"] = cltv_df[\"recency\"] / 7 # haftalık\n",
    "    cltv_df[\"T\"] = cltv_df[\"T\"] / 7 # haftalık\n",
    "\n",
    "    # 2. BG-NBD Modelinin Kurulması\n",
    "    bgf = BetaGeoFitter(penalizer_coef=0.001)\n",
    "    bgf.fit(cltv_df['frequency'],\n",
    "            cltv_df['recency'],\n",
    "            cltv_df['T'])\n",
    "\n",
    "    cltv_df[\"expected_purc_\"+str(week)+\"_week\"] = bgf.predict(week,\n",
    "                                                  cltv_df['frequency'],\n",
    "                                                  cltv_df['recency'],\n",
    "                                                  cltv_df['T'])\n",
    "\n",
    "\n",
    "    # 3. GAMMA-GAMMA Modelinin Kurulması\n",
    "    ggf = GammaGammaFitter(penalizer_coef=0.01)\n",
    "    ggf.fit(cltv_df['frequency'], cltv_df['monetary'])\n",
    "    cltv_df[\"expected_average_profit\"] = ggf.conditional_expected_average_profit(cltv_df['frequency'],\n",
    "                                                                                 cltv_df['monetary'])\n",
    "\n",
    "    # 4. BG-NBD ve GG modeli ile CLTV'nin hesaplanması.\n",
    "    cltv = ggf.customer_lifetime_value(bgf,\n",
    "                                       cltv_df['frequency'],\n",
    "                                       cltv_df['recency'],\n",
    "                                       cltv_df['T'],\n",
    "                                       cltv_df['monetary'],\n",
    "                                       time=month,  # 3 aylık\n",
    "                                       freq=\"W\",  # T'nin frekans bilgisi.\n",
    "                                       discount_rate=0.01)\n",
    "\n",
    "    cltv = cltv.reset_index()\n",
    "    cltv_final = cltv_df.merge(cltv, on=\"Customer ID\", how=\"left\")\n",
    "    cltv_final[\"segment\"] = pd.qcut(cltv_final[\"clv\"], 4, labels=[\"D\", \"C\", \"B\", \"A\"])\n",
    "    print(\"#################### BG/NBD - Gamma Gamma CLTV Analysis ########################################\")\n",
    "    print(cltv_final.groupby(\"segment\").agg({\"count\", \"mean\"}).T)\n",
    "    print(\"###########################################################################\")\n",
    "\n",
    "    return cltv_final\n",
    "\n",
    "\n",
    "cltv_final2 = create_cltv_p(df)"
   ]
  },
  {
   "cell_type": "markdown",
   "id": "7705dfe9",
   "metadata": {},
   "source": [
    "## Kaynaklar\n",
    "\n",
    "- https://towardsdatascience.com/a-step-by-step-introduction-to-cohort-analysis-in-python-a2cbbd8460ea\n",
    "- https://towardsdatascience.com/an-rfm-customer-segmentation-with-python-cf7be647733d\n",
    "- https://towardsdatascience.com/measuring-customers-value-using-python-lifetimes-d8b19a04e9c1\n",
    "- https://medium.com/analytics-vidhya/the-gamma-distribution-and-its-applications-in-the-mobile-app-industry-2ba891d8b7f4\n",
    "- https://www.miuul.com/not-defteri/power-bi-ile-crm-analitigi-i-kohort-analizi\n",
    "- https://www.miuul.com/not-defteri/power-bi-ile-crm-analitigi-ii-rfm-ile-musteri-segmentasyonu\n",
    "- https://www.miuul.com/not-defteri/power-bi-ile-crm-analitigi-iii-cltv-ile-musteri-segmenti-olusturma\n",
    "- https://www.miuul.com/not-defteri/power-bi-ile-crm-analitigi-iv-musteri-yasam-boyu-degeri-tahmini\n",
    "- https://www.miuul.com/not-defteri/sql-serverda-t-sql-ile-rfm-analizi\n",
    "- https://www.veribilimiokulu.com/3-adimda-crm-musteri-iliskileri-yonetimi/"
   ]
  }
 ],
 "metadata": {
  "kernelspec": {
   "display_name": "Python 3 (ipykernel)",
   "language": "python",
   "name": "python3"
  },
  "language_info": {
   "codemirror_mode": {
    "name": "ipython",
    "version": 3
   },
   "file_extension": ".py",
   "mimetype": "text/x-python",
   "name": "python",
   "nbconvert_exporter": "python",
   "pygments_lexer": "ipython3",
   "version": "3.9.12"
  }
 },
 "nbformat": 4,
 "nbformat_minor": 5
}
